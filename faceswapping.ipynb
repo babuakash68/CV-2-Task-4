{
 "cells": [
  {
   "cell_type": "code",
   "execution_count": 86,
   "id": "10faf093",
   "metadata": {},
   "outputs": [],
   "source": [
    "import cv2"
   ]
  },
  {
   "cell_type": "code",
   "execution_count": 87,
   "id": "30277583",
   "metadata": {},
   "outputs": [],
   "source": [
    "import pandas as pd"
   ]
  },
  {
   "cell_type": "code",
   "execution_count": 88,
   "id": "465b9d77",
   "metadata": {},
   "outputs": [],
   "source": [
    "photo = cv2.imread('pic1.jpg')"
   ]
  },
  {
   "cell_type": "code",
   "execution_count": 89,
   "id": "ba64f7ce",
   "metadata": {},
   "outputs": [],
   "source": [
    "photo1 = cv2.imread('pic2.jpg')\n",
    "# cv2.imshow('hi' , photo1)\n",
    "# cv2.waitKey()\n",
    "# cv2.destroyAllWindows()"
   ]
  },
  {
   "cell_type": "code",
   "execution_count": 90,
   "id": "e76bdd5d",
   "metadata": {},
   "outputs": [],
   "source": [
    "model = cv2.CascadeClassifier('haarcascade_frontalface_default.xml')"
   ]
  },
  {
   "cell_type": "code",
   "execution_count": 91,
   "id": "a7adf9b1",
   "metadata": {},
   "outputs": [],
   "source": [
    "face = model.detectMultiScale(photo)\n",
    "x1 = face[0][0]\n",
    "y1 = face[0][1]\n",
    "x2 = x1 + face[0][2]\n",
    "y2 = y1 + face[0][3]\n",
    "sel_photo = cv2.rectangle(photo , (x1 , y1) , (x2 , y2) , [0 , 255 , 0] , 5)\n",
    "cv2.imshow('hi' , sel_photo)\n",
    "cv2.waitKey()\n",
    "cv2.destroyAllWindows()"
   ]
  },
  {
   "cell_type": "markdown",
   "id": "8b5015e0",
   "metadata": {},
   "source": [
    "model.detectMultiScale(photo)"
   ]
  },
  {
   "cell_type": "code",
   "execution_count": 92,
   "id": "0430e201",
   "metadata": {},
   "outputs": [],
   "source": [
    "\n",
    "\n",
    "face1 = model.detectMultiScale(photo1)\n",
    "a1 = face1[0][0]\n",
    "b1 = face1[0][1]\n",
    "a2 = a1 + face1[0][2]\n",
    "b2 = b1 + face1[0][3]\n",
    "sel_photo = cv2.rectangle(photo1 , (a1 , b1) , (a2 , b2) , [0 , 255 , 0] , 5)\n",
    "cv2.imshow('hi' , sel_photo)\n",
    "cv2.waitKey()\n",
    "cv2.destroyAllWindows()"
   ]
  },
  {
   "cell_type": "code",
   "execution_count": 93,
   "id": "6dbe2487",
   "metadata": {
    "scrolled": true
   },
   "outputs": [
    {
     "data": {
      "text/plain": [
       "array([[399, 243, 453, 453]], dtype=int32)"
      ]
     },
     "execution_count": 93,
     "metadata": {},
     "output_type": "execute_result"
    }
   ],
   "source": [
    "face"
   ]
  },
  {
   "cell_type": "code",
   "execution_count": 94,
   "id": "67c2a8e6",
   "metadata": {},
   "outputs": [],
   "source": [
    "pic1 = photo[y1 : y2 , x1 : x2]\n",
    "pic2 = photo1[b1 : b2 , a1 : a2]\n",
    "size1 = pic1.shape\n",
    "size2 = pic2.shape\n",
    "pic2 = cv2.resize(pic2 , (size1[0] , size1[1]))\n",
    "pic1 = cv2.resize(pic1 , (size2[0] , size2[1]))\n",
    "pic1.shape\n",
    "\n",
    "photo[y1 : y2 , x1 : x2] = pic2\n",
    "photo1[b1 : b2 , a1 : a2] = pic1"
   ]
  },
  {
   "cell_type": "code",
   "execution_count": 95,
   "id": "a8d0c8d7",
   "metadata": {},
   "outputs": [],
   "source": [
    "cv2.imshow('hi' , photo1)\n",
    "cv2.waitKey()\n",
    "cv2.destroyAllWindows()"
   ]
  },
  {
   "cell_type": "code",
   "execution_count": null,
   "id": "21c338fb",
   "metadata": {},
   "outputs": [],
   "source": []
  }
 ],
 "metadata": {
  "kernelspec": {
   "display_name": "Python 3",
   "language": "python",
   "name": "python3"
  },
  "language_info": {
   "codemirror_mode": {
    "name": "ipython",
    "version": 3
   },
   "file_extension": ".py",
   "mimetype": "text/x-python",
   "name": "python",
   "nbconvert_exporter": "python",
   "pygments_lexer": "ipython3",
   "version": "3.7.9"
  }
 },
 "nbformat": 4,
 "nbformat_minor": 5
}
