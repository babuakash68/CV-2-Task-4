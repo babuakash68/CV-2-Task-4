{
 "cells": [
  {
   "cell_type": "code",
   "execution_count": 31,
   "id": "23c9e08d",
   "metadata": {},
   "outputs": [],
   "source": [
    "import cv2"
   ]
  },
  {
   "cell_type": "code",
   "execution_count": 32,
   "id": "18000578",
   "metadata": {},
   "outputs": [],
   "source": [
    "import pandas as pd\n",
    "import numpy as np"
   ]
  },
  {
   "cell_type": "code",
   "execution_count": 33,
   "id": "d6e3ad6a",
   "metadata": {},
   "outputs": [],
   "source": [
    "photo = cv2.imread('pic1.jpg')\n",
    "photo = cv2.resize(photo , (800 , 600))"
   ]
  },
  {
   "cell_type": "code",
   "execution_count": 34,
   "id": "451361dd",
   "metadata": {},
   "outputs": [],
   "source": [
    "photo1 = cv2.imread('pic2.jpg')\n",
    "photo1 = cv2.resize(photo1 , (800 , 600))"
   ]
  },
  {
   "cell_type": "code",
   "execution_count": 35,
   "id": "eff0f31e",
   "metadata": {},
   "outputs": [],
   "source": [
    "photo = np.hstack((photo , photo1))\n"
   ]
  },
  {
   "cell_type": "code",
   "execution_count": 36,
   "id": "91ece3cd",
   "metadata": {},
   "outputs": [],
   "source": [
    "cv2.imshow('hi' , photo)\n",
    "cv2.waitKey()\n",
    "cv2.destroyAllWindows()"
   ]
  },
  {
   "cell_type": "code",
   "execution_count": null,
   "id": "18e0c171",
   "metadata": {},
   "outputs": [],
   "source": []
  }
 ],
 "metadata": {
  "kernelspec": {
   "display_name": "Python 3",
   "language": "python",
   "name": "python3"
  },
  "language_info": {
   "codemirror_mode": {
    "name": "ipython",
    "version": 3
   },
   "file_extension": ".py",
   "mimetype": "text/x-python",
   "name": "python",
   "nbconvert_exporter": "python",
   "pygments_lexer": "ipython3",
   "version": "3.7.9"
  }
 },
 "nbformat": 4,
 "nbformat_minor": 5
}
